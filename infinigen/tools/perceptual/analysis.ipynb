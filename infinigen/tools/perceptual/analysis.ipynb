{
 "cells": [
  {
   "cell_type": "code",
   "execution_count": 17,
   "metadata": {},
   "outputs": [],
   "source": [
    "# Copyright (C) 2023, Princeton University.\n",
    "# This source code is licensed under the BSD 3-Clause license found in the LICENSE file in the root directory of this source tree.\n",
    "\n",
    "# Authors: Karhan Kayan\n",
    "\n",
    "import pandas as pd\n",
    "import statsmodels.api as sm\n",
    "\n",
    "\n",
    "def A_count_proportion(df):\n",
    "    A_count = 0\n",
    "    B_count = 0\n",
    "    for index, _ in df.iterrows():\n",
    "        row = df.iloc[index]\n",
    "        if \"Program A\" in row['Answer.category.label']:\n",
    "            A_count += 1\n",
    "        elif \"Program B\" in row['Answer.category.label']:\n",
    "            B_count += 1\n",
    "    number_of_successes = A_count  # number of times program A (or B) was chosen as more realistic\n",
    "    n = (A_count+B_count) # total number of submissions\n",
    "\n",
    "    # Confidence level: 99%\n",
    "    confidence_level = 0.99\n",
    "    alpha = 1 - confidence_level\n",
    "\n",
    "    # Calculate the confidence interval\n",
    "    ci_low, ci_upp = sm.stats.proportion_confint(number_of_successes, n, alpha=alpha, method='binom_test')\n",
    "\n",
    "    return A_count/(A_count+B_count),ci_low, ci_upp\n",
    "\n",
    "def B_count_proportion(df):\n",
    "    A_count = 0\n",
    "    B_count = 0\n",
    "    for index, _ in df.iterrows():\n",
    "        row = df.iloc[index]\n",
    "        if \"Program A\" in row['Answer.category.label']:\n",
    "            A_count += 1\n",
    "        elif \"Program B\" in row['Answer.category.label']:\n",
    "            B_count += 1\n",
    "    number_of_successes = B_count  # number of times program A (or B) was chosen as more realistic\n",
    "    n = (A_count+B_count) # total number of submissions\n",
    "\n",
    "    # Confidence level: 99%\n",
    "    confidence_level = 0.99\n",
    "    alpha = 1 - confidence_level\n",
    "\n",
    "    # Calculate the confidence interval\n",
    "    ci_low, ci_upp = sm.stats.proportion_confint(number_of_successes, n, alpha=alpha, method='binom_test')\n",
    "\n",
    "    return B_count/(A_count+B_count),ci_low, ci_upp\n",
    "\n",
    "def count_errors(df):\n",
    "    error_count = 0\n",
    "    not_sure_count = 0\n",
    "    for index, _ in df.iterrows():\n",
    "        row = df.iloc[index]\n",
    "        if 'Yes' in row['Answer.category.label']:\n",
    "            error_count += 1\n",
    "        if 'Not Sure' in row['Answer.category.label']:\n",
    "            not_sure_count += 1\n",
    "    return error_count/(df.shape[0]-not_sure_count)"
   ]
  },
  {
   "cell_type": "code",
   "execution_count": 24,
   "metadata": {},
   "outputs": [
    {
     "name": "stdout",
     "output_type": "stream",
     "text": [
      "Infinigen first person layout is more realistic than ATISS 0.693 of the time. 99% confidence interval: 0.590 - 0.783\n",
      "Infinigen first person is more realistic than ATISS 0.713 of the time. 99% confidence interval: 0.611 - 0.802\n",
      "Infinigen first person layout is more realistic than Sceneformer 0.560 of the time. 99% confidence interval: 0.453 - 0.661\n",
      "Infinigen first person is more realistic than Sceneformer 0.667 of the time. 99% confidence interval: 0.561 - 0.759\n",
      "Infinigen first person layout is more realistic than FastSynth 0.853 of the time. 99% confidence interval: 0.766 - 0.917\n",
      "Infinigen first person is more realistic than FastSynth 0.907 of the time. 99% confidence interval: 0.829 - 0.954\n",
      "Infinigen first person layout is more realistic than Procthor 0.944 of the time. 99% confidence interval: 0.873 - 0.979\n",
      "Infinigen first person is more realistic than Procthor 0.893 of the time. 99% confidence interval: 0.813 - 0.946\n",
      "Infinigen overhead layout is more realistic than ATISS 0.393 of the time. 99% confidence interval: 0.295 - 0.500\n",
      "Infinigen overhead is more realistic than ATISS 0.480 of the time. 99% confidence interval: 0.376 - 0.586\n",
      "Infinigen overhead layout is more realistic than Sceneformer 0.573 of the time. 99% confidence interval: 0.466 - 0.675\n",
      "Infinigen overhead is more realistic than Sceneformer 0.620 of the time. 99% confidence interval: 0.513 - 0.719\n",
      "Infinigen overhead layout is more realistic than FastSynth 0.560 of the time. 99% confidence interval: 0.453 - 0.661\n",
      "Infinigen overhead is more realistic than FastSynth 0.453 of the time. 99% confidence interval: 0.350 - 0.561\n"
     ]
    }
   ],
   "source": [
    "src = './results/infinigen-ATISS-first-person-layout-realism.csv'\n",
    "df = pd.read_csv(src)\n",
    "print(f'Infinigen first person layout is more realistic than ATISS {A_count_proportion(df)[0]:.3f} of the time. 99% confidence interval: {A_count_proportion(df)[1]:.3f} - {A_count_proportion(df)[2]:.3f}')\n",
    "\n",
    "src = './results/infinigen-ATISS-first-person-realism.csv'\n",
    "df = pd.read_csv(src)\n",
    "print(f'Infinigen first person is more realistic than ATISS {A_count_proportion(df)[0]:.3f} of the time. 99% confidence interval: {A_count_proportion(df)[1]:.3f} - {A_count_proportion(df)[2]:.3f}')\n",
    "\n",
    "\n",
    "src = './results/infinigen-sceneformer-first-person-layout-realism.csv'\n",
    "df = pd.read_csv(src)\n",
    "print(f'Infinigen first person layout is more realistic than Sceneformer {A_count_proportion(df)[0]:.3f} of the time. 99% confidence interval: {A_count_proportion(df)[1]:.3f} - {A_count_proportion(df)[2]:.3f}')\n",
    "\n",
    "\n",
    "src = './results/infinigen-sceneformer-first-person-realism.csv'    \n",
    "df = pd.read_csv(src)\n",
    "print(f'Infinigen first person is more realistic than Sceneformer {A_count_proportion(df)[0]:.3f} of the time. 99% confidence interval: {A_count_proportion(df)[1]:.3f} - {A_count_proportion(df)[2]:.3f}')\n",
    "\n",
    "\n",
    "src = './results/infinigen-fastsynth-first-person-layout-realism.csv'\n",
    "df = pd.read_csv(src)\n",
    "print(f'Infinigen first person layout is more realistic than FastSynth {A_count_proportion(df)[0]:.3f} of the time. 99% confidence interval: {A_count_proportion(df)[1]:.3f} - {A_count_proportion(df)[2]:.3f}')\n",
    "\n",
    "\n",
    "\n",
    "src = './results/infinigen-fastsynth-first-person-realism.csv'\n",
    "df = pd.read_csv(src)\n",
    "print(f'Infinigen first person is more realistic than FastSynth {A_count_proportion(df)[0]:.3f} of the time. 99% confidence interval: {A_count_proportion(df)[1]:.3f} - {A_count_proportion(df)[2]:.3f}')\n",
    "\n",
    "src = './results/infinigen-procthor-first-person-layout-realism.csv'\n",
    "df = pd.read_csv(src)\n",
    "print(f'Infinigen first person layout is more realistic than Procthor {A_count_proportion(df)[0]:.3f} of the time. 99% confidence interval: {A_count_proportion(df)[1]:.3f} - {A_count_proportion(df)[2]:.3f}')\n",
    "\n",
    "src = './results/infinigen-procthor-first-person-realism.csv'\n",
    "df = pd.read_csv(src)\n",
    "print(f'Infinigen first person is more realistic than Procthor {A_count_proportion(df)[0]:.3f} of the time. 99% confidence interval: {A_count_proportion(df)[1]:.3f} - {A_count_proportion(df)[2]:.3f}')\n",
    "\n",
    "\n",
    "\n",
    "\n",
    "src = './results/infinigen-ATISS-overhead-layout-realism.csv'\n",
    "df = pd.read_csv(src)\n",
    "print(f'Infinigen overhead layout is more realistic than ATISS {A_count_proportion(df)[0]:.3f} of the time. 99% confidence interval: {A_count_proportion(df)[1]:.3f} - {A_count_proportion(df)[2]:.3f}')\n",
    "\n",
    "src = './results/infinigen-ATISS-overhead-realism.csv'\n",
    "df = pd.read_csv(src)\n",
    "print(f'Infinigen overhead is more realistic than ATISS {A_count_proportion(df)[0]:.3f} of the time. 99% confidence interval: {A_count_proportion(df)[1]:.3f} - {A_count_proportion(df)[2]:.3f}')\n",
    "\n",
    "\n",
    "src = './results/infinigen-sceneformer-overhead-layout-realism.csv'\n",
    "df = pd.read_csv(src)\n",
    "print(f'Infinigen overhead layout is more realistic than Sceneformer {A_count_proportion(df)[0]:.3f} of the time. 99% confidence interval: {A_count_proportion(df)[1]:.3f} - {A_count_proportion(df)[2]:.3f}')\n",
    "\n",
    "src = './results/infinigen-sceneformer-overhead-realism.csv'\n",
    "df = pd.read_csv(src)\n",
    "print(f'Infinigen overhead is more realistic than Sceneformer {A_count_proportion(df)[0]:.3f} of the time. 99% confidence interval: {A_count_proportion(df)[1]:.3f} - {A_count_proportion(df)[2]:.3f}')\n",
    "\n",
    "src = './results/infinigen-fastsynth-overhead-layout-realism.csv'\n",
    "df = pd.read_csv(src)\n",
    "print(f'Infinigen overhead layout is more realistic than FastSynth {A_count_proportion(df)[0]:.3f} of the time. 99% confidence interval: {A_count_proportion(df)[1]:.3f} - {A_count_proportion(df)[2]:.3f}')\n",
    "\n",
    "src = './results/infinigen-fastsynth-overhead-realism.csv'\n",
    "df = pd.read_csv(src)\n",
    "print(f'Infinigen overhead is more realistic than FastSynth {A_count_proportion(df)[0]:.3f} of the time. 99% confidence interval: {A_count_proportion(df)[1]:.3f} - {A_count_proportion(df)[2]:.3f}')\n",
    "\n"
   ]
  },
  {
   "cell_type": "code",
   "execution_count": 20,
   "metadata": {},
   "outputs": [
    {
     "name": "stdout",
     "output_type": "stream",
     "text": [
      "Infinigen first person has 0.175 errors\n"
     ]
    }
   ],
   "source": [
    "src = './results/infinigen-first-person-errors.csv'\n",
    "df = pd.read_csv(src)\n",
    "print(f'Infinigen first person has {count_errors(df):.3f} errors')"
   ]
  },
  {
   "cell_type": "code",
   "execution_count": 21,
   "metadata": {},
   "outputs": [
    {
     "name": "stdout",
     "output_type": "stream",
     "text": [
      "ATISS first person layout is more realistic than Infinigen 0.307 of the time. 99% confidence interval: 0.217 - 0.410\n",
      "ATISS first person is more realistic than Infinigen 0.287 of the time. 99% confidence interval: 0.198 - 0.389\n",
      "Sceneformer first person layout is more realistic than Infinigen 0.440 of the time. 99% confidence interval: 0.339 - 0.547\n",
      "Sceneformer first person is more realistic than Infinigen 0.333 of the time. 99% confidence interval: 0.241 - 0.439\n",
      "FastSynth first person layout is more realistic than Infinigen 0.147 of the time. 99% confidence interval: 0.083 - 0.234\n",
      "Procthor first person layout is more realistic than Infinigen 0.056 of the time. 99% confidence interval: 0.021 - 0.127\n",
      "Procthor first person is more realistic than Infinigen 0.107 of the time. 99% confidence interval: 0.054 - 0.187\n",
      "FastSynth first person is more realistic than Infinigen 0.093 of the time. 99% confidence interval: 0.046 - 0.171\n",
      "ATISS overhead layout is more realistic than Infinigen 0.607 of the time. 99% confidence interval: 0.500 - 0.705\n",
      "ATISS overhead is more realistic than Infinigen 0.520 of the time. 99% confidence interval: 0.414 - 0.624\n",
      "sceneformer overhead layout is more realistic than Infinigen 0.427 of the time. 99% confidence interval: 0.325 - 0.534\n",
      "sceneformer overhead is more realistic than Infinigen 0.380 of the time. 99% confidence interval: 0.281 - 0.487\n",
      "fastsynth overhead layout is more realistic than Infinigen 0.440 of the time. 99% confidence interval: 0.339 - 0.547\n",
      "fastsynth overhead is more realistic than Infinigen 0.547 of the time. 99% confidence interval: 0.439 - 0.650\n"
     ]
    }
   ],
   "source": [
    "src = './results/infinigen-ATISS-first-person-layout-realism.csv'\n",
    "df = pd.read_csv(src)\n",
    "print(f'ATISS first person layout is more realistic than Infinigen {B_count_proportion(df)[0]:.3f} of the time. 99% confidence interval: {B_count_proportion(df)[1]:.3f} - {B_count_proportion(df)[2]:.3f}')\n",
    "\n",
    "src = './results/infinigen-ATISS-first-person-realism.csv'\n",
    "df = pd.read_csv(src)\n",
    "print(f'ATISS first person is more realistic than Infinigen {B_count_proportion(df)[0]:.3f} of the time. 99% confidence interval: {B_count_proportion(df)[1]:.3f} - {B_count_proportion(df)[2]:.3f}')\n",
    "\n",
    "\n",
    "src = './results/infinigen-sceneformer-first-person-layout-realism.csv'\n",
    "df = pd.read_csv(src)\n",
    "print(f'Sceneformer first person layout is more realistic than Infinigen {B_count_proportion(df)[0]:.3f} of the time. 99% confidence interval: {B_count_proportion(df)[1]:.3f} - {B_count_proportion(df)[2]:.3f}')\n",
    "\n",
    "\n",
    "src = './results/infinigen-sceneformer-first-person-realism.csv'    \n",
    "df = pd.read_csv(src)\n",
    "print(f'Sceneformer first person is more realistic than Infinigen {B_count_proportion(df)[0]:.3f} of the time. 99% confidence interval: {B_count_proportion(df)[1]:.3f} - {B_count_proportion(df)[2]:.3f}')\n",
    "\n",
    "\n",
    "src = './results/infinigen-fastsynth-first-person-layout-realism.csv'\n",
    "df = pd.read_csv(src)\n",
    "print(f'FastSynth first person layout is more realistic than Infinigen {B_count_proportion(df)[0]:.3f} of the time. 99% confidence interval: {B_count_proportion(df)[1]:.3f} - {B_count_proportion(df)[2]:.3f}')\n",
    "\n",
    "\n",
    "src = './results/infinigen-fastsynth-first-person-realism.csv'\n",
    "df = pd.read_csv(src)\n",
    "print(f'FastSynth first person is more realistic than Infinigen {B_count_proportion(df)[0]:.3f} of the time. 99% confidence interval: {B_count_proportion(df)[1]:.3f} - {B_count_proportion(df)[2]:.3f}')\n",
    "\n",
    "\n",
    "src = './results/infinigen-procthor-first-person-layout-realism.csv'\n",
    "df = pd.read_csv(src)\n",
    "print(f'Procthor first person layout is more realistic than Infinigen {B_count_proportion(df)[0]:.3f} of the time. 99% confidence interval: {B_count_proportion(df)[1]:.3f} - {B_count_proportion(df)[2]:.3f}')\n",
    "\n",
    "src = './results/infinigen-procthor-first-person-realism.csv'\n",
    "df = pd.read_csv(src)\n",
    "print(f'Procthor first person is more realistic than Infinigen {B_count_proportion(df)[0]:.3f} of the time. 99% confidence interval: {B_count_proportion(df)[1]:.3f} - {B_count_proportion(df)[2]:.3f}')\n",
    "\n",
    "\n",
    "\n",
    "\n",
    "src = './results/infinigen-ATISS-overhead-layout-realism.csv'\n",
    "df = pd.read_csv(src)\n",
    "print(f'ATISS overhead layout is more realistic than Infinigen {B_count_proportion(df)[0]:.3f} of the time. 99% confidence interval: {B_count_proportion(df)[1]:.3f} - {B_count_proportion(df)[2]:.3f}')\n",
    "\n",
    "src = './results/infinigen-ATISS-overhead-realism.csv'\n",
    "df = pd.read_csv(src)\n",
    "print(f'ATISS overhead is more realistic than Infinigen {B_count_proportion(df)[0]:.3f} of the time. 99% confidence interval: {B_count_proportion(df)[1]:.3f} - {B_count_proportion(df)[2]:.3f}')\n",
    "\n",
    "\n",
    "src = './results/infinigen-sceneformer-overhead-layout-realism.csv'\n",
    "df = pd.read_csv(src)\n",
    "print(f'sceneformer overhead layout is more realistic than Infinigen {B_count_proportion(df)[0]:.3f} of the time. 99% confidence interval: {B_count_proportion(df)[1]:.3f} - {B_count_proportion(df)[2]:.3f}')\n",
    "\n",
    "src = './results/infinigen-sceneformer-overhead-realism.csv'\n",
    "df = pd.read_csv(src)\n",
    "print(f'sceneformer overhead is more realistic than Infinigen {B_count_proportion(df)[0]:.3f} of the time. 99% confidence interval: {B_count_proportion(df)[1]:.3f} - {B_count_proportion(df)[2]:.3f}')\n",
    "\n",
    "src = './results/infinigen-fastsynth-overhead-layout-realism.csv'\n",
    "df = pd.read_csv(src)\n",
    "print(f'fastsynth overhead layout is more realistic than Infinigen {B_count_proportion(df)[0]:.3f} of the time. 99% confidence interval: {B_count_proportion(df)[1]:.3f} - {B_count_proportion(df)[2]:.3f}')\n",
    "\n",
    "src = './results/infinigen-fastsynth-overhead-realism.csv'\n",
    "df = pd.read_csv(src)\n",
    "print(f'fastsynth overhead is more realistic than Infinigen {B_count_proportion(df)[0]:.3f} of the time. 99% confidence interval: {B_count_proportion(df)[1]:.3f} - {B_count_proportion(df)[2]:.3f}')\n",
    "\n"
   ]
  },
  {
   "cell_type": "code",
   "execution_count": 22,
   "metadata": {},
   "outputs": [
    {
     "name": "stdout",
     "output_type": "stream",
     "text": [
      "procthor first person has 0.252 errors\n"
     ]
    }
   ],
   "source": [
    "src = './results/procthor-first-person-errors.csv'\n",
    "df = pd.read_csv(src)\n",
    "print(f'procthor first person has {count_errors(df):.3f} errors')"
   ]
  },
  {
   "cell_type": "code",
   "execution_count": 27,
   "metadata": {},
   "outputs": [
    {
     "data": {
      "text/plain": [
       "(0.795, 0.7496838235735617, 0.8348538077362546)"
      ]
     },
     "execution_count": 27,
     "metadata": {},
     "output_type": "execute_result"
    }
   ],
   "source": [
    "\n",
    "def A_count_proportion(dataframes):\n",
    "    A_count = 0\n",
    "    total_B_count = 0\n",
    "    for df in dataframes:\n",
    "        B_count = 0\n",
    "        for index, row in df.iterrows():\n",
    "            if \"Program A\" in row['Answer.category.label']:\n",
    "                A_count += 1\n",
    "            else:  # Assuming any other label is a different Program B\n",
    "                B_count += 1\n",
    "        total_B_count += B_count\n",
    "\n",
    "    number_of_successes = A_count  # number of times program A was chosen as more realistic\n",
    "    n = A_count + total_B_count  # total number of submissions\n",
    "\n",
    "    # Confidence level: 99%\n",
    "    confidence_level = 0.99\n",
    "    alpha = 1 - confidence_level\n",
    "\n",
    "    # Calculate the confidence interval\n",
    "    ci_low, ci_upp = sm.stats.proportion_confint(number_of_successes, n, alpha=alpha, method='binom_test')\n",
    "\n",
    "    return A_count / n, ci_low, ci_upp\n",
    "\n",
    "src = './results/infinigen-ATISS-first-person-realism.csv'\n",
    "df1 = pd.read_csv(src)\n",
    "\n",
    "src = './results/infinigen-sceneformer-first-person-realism.csv'    \n",
    "df2 = pd.read_csv(src)\n",
    "\n",
    "src = './results/infinigen-fastsynth-first-person-realism.csv'\n",
    "df3 = pd.read_csv(src)\n",
    "\n",
    "src = './results/infinigen-procthor-first-person-realism.csv'\n",
    "df4 = pd.read_csv(src)\n",
    "\n",
    "A_count_proportion([df1,df2,df3,df4])"
   ]
  },
  {
   "cell_type": "code",
   "execution_count": 28,
   "metadata": {},
   "outputs": [
    {
     "data": {
      "text/plain": [
       "(0.7601351351351351, 0.7124366959489067, 0.8029941663408575)"
      ]
     },
     "execution_count": 28,
     "metadata": {},
     "output_type": "execute_result"
    }
   ],
   "source": [
    "src = './results/infinigen-ATISS-first-person-layout-realism.csv'\n",
    "df1 = pd.read_csv(src)\n",
    "\n",
    "src = './results/infinigen-sceneformer-first-person-layout-realism.csv'    \n",
    "df2 = pd.read_csv(src)\n",
    "\n",
    "src = './results/infinigen-fastsynth-first-person-layout-realism.csv'\n",
    "df3 = pd.read_csv(src)\n",
    "\n",
    "src = './results/infinigen-procthor-first-person-layout-realism.csv'\n",
    "df4 = pd.read_csv(src)\n",
    "\n",
    "A_count_proportion([df1,df2,df3,df4])"
   ]
  },
  {
   "cell_type": "code",
   "execution_count": null,
   "metadata": {},
   "outputs": [],
   "source": []
  }
 ],
 "metadata": {
  "kernelspec": {
   "display_name": "infinigen_indoors",
   "language": "python",
   "name": "python3"
  },
  "language_info": {
   "codemirror_mode": {
    "name": "ipython",
    "version": 3
   },
   "file_extension": ".py",
   "mimetype": "text/x-python",
   "name": "python",
   "nbconvert_exporter": "python",
   "pygments_lexer": "ipython3",
   "version": "3.10.12"
  }
 },
 "nbformat": 4,
 "nbformat_minor": 2
}
